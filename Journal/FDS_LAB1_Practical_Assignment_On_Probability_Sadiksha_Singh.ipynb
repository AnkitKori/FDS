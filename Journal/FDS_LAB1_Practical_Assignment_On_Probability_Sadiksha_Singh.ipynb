{
  "nbformat": 4,
  "nbformat_minor": 0,
  "metadata": {
    "colab": {
      "name": "FDS_LAB1_Practical_Assignment_On_Probability-Sadiksha Singh.ipynb",
      "provenance": [],
      "collapsed_sections": [],
      "authorship_tag": "ABX9TyOtqc/oREJZTn5qll8RMqb2",
      "include_colab_link": true
    },
    "kernelspec": {
      "name": "python3",
      "display_name": "Python 3"
    }
  },
  "cells": [
    {
      "cell_type": "markdown",
      "metadata": {
        "id": "view-in-github",
        "colab_type": "text"
      },
      "source": [
        "<a href=\"https://colab.research.google.com/github/Sadiksha08/FDS-Lab-Work/blob/main/FDS_LAB1_Practical_Assignment_On_Probability_Sadiksha_Singh.ipynb\" target=\"_parent\"><img src=\"https://colab.research.google.com/assets/colab-badge.svg\" alt=\"Open In Colab\"/></a>"
      ]
    },
    {
      "cell_type": "code",
      "metadata": {
        "colab": {
          "base_uri": "https://localhost:8080/"
        },
        "id": "_iXLzESZidk0",
        "outputId": "36343a97-f889-4ed8-81ee-513cb887c232"
      },
      "source": [
        "# Commented out IPython magic to ensure Python compatibility.\r\n",
        "#Mounting Google Drive\r\n",
        "# %cd ..\r\n",
        "from google.colab import drive\r\n",
        "drive.mount('/content/gdrive')"
      ],
      "execution_count": 1,
      "outputs": [
        {
          "output_type": "stream",
          "text": [
            "Drive already mounted at /content/gdrive; to attempt to forcibly remount, call drive.mount(\"/content/gdrive\", force_remount=True).\n"
          ],
          "name": "stdout"
        }
      ]
    },
    {
      "cell_type": "markdown",
      "metadata": {
        "id": "Tu20QqZmiT1g"
      },
      "source": [
        "**Probability**"
      ]
    },
    {
      "cell_type": "markdown",
      "metadata": {
        "id": "DPptzeflbzc5"
      },
      "source": [
        "Q. 1. Two dice are rolled, find the probability that the sum is:\r\n",
        "1. equal to 1\r\n",
        "2. equal to 4\r\n",
        "3. less than 13"
      ]
    },
    {
      "cell_type": "markdown",
      "metadata": {
        "id": "qmXf5QO22Nst"
      },
      "source": [
        "**Solution**"
      ]
    },
    {
      "cell_type": "code",
      "metadata": {
        "id": "KvawoA6OajAV"
      },
      "source": [
        "def diceSum(Q1Num,OpSign):\r\n",
        "  Q1List=[]\r\n",
        "  Q1TotalOutcome=36\r\n",
        "  for i in range(1,7):\r\n",
        "    for j in range(1,7):\r\n",
        "      if (OpSign==\"Equalto\"):\r\n",
        "        if ((i+j)==Q1Num) :\r\n",
        "            Q1List.append(i+j)\r\n",
        "      if (OpSign==\"Lessthan\"):\r\n",
        "        if ((i+j)<Q1Num) :\r\n",
        "            Q1List.append(i+j)\r\n",
        "  if len(Q1List) <1 :\r\n",
        "    print(\"No number for sum is \"+ OpSign + \" \" + str(Q1Num))\r\n",
        "  else:\r\n",
        "    probQ1=len(Q1List)/Q1TotalOutcome\r\n",
        "    print(\"Probability of getting the sum of two dice as \"+ OpSign + \" \" + str(Q1Num) + \" is \" + str(probQ1))"
      ],
      "execution_count": 2,
      "outputs": []
    },
    {
      "cell_type": "code",
      "metadata": {
        "colab": {
          "base_uri": "https://localhost:8080/"
        },
        "id": "cOxhUetgajNT",
        "outputId": "9bbb95c4-148a-4279-c79a-cd0e29cde7b8"
      },
      "source": [
        "#When we roll a single die, the total number of outcomes is 6; when we roll two dice the total outcomes are 6*6=36 and so on.\r\n",
        "\r\n",
        "#(i) Sum is equal to 1\r\n",
        "# When two dice are rolled, the minimum digit that can be obtained on either of the dice is 1, hence the minimum sum can be 2. \r\n",
        "#Thus, the probability of getting the sum of two dice as 1 is zero.\r\n",
        "a=diceSum(1,\"Equalto\")\r\n",
        "\r\n",
        "#(ii) The sum can be equal to 4 in the following outcomes: (1,3), (2,2), (3,1)\r\n",
        "# Hence the probability of getting the sum as 4 = 3/36= 1/12\r\n",
        "b=diceSum(4,\"Equalto\")\r\n",
        "\r\n",
        "#(iii) The maximum number that can be obtained on either of the two dice is 6 and hence the maximum sum that can be obtained is 12. \r\n",
        "#Hence, the probability of getting the sum as less than 13 is 1.\r\n",
        "c=diceSum(13,\"Lessthan\")"
      ],
      "execution_count": 3,
      "outputs": [
        {
          "output_type": "stream",
          "text": [
            "No number for sum is Equalto 1\n",
            "Probability of getting the sum of two dice as Equalto 4 is 0.08333333333333333\n",
            "Probability of getting the sum of two dice as Lessthan 13 is 1.0\n"
          ],
          "name": "stdout"
        }
      ]
    },
    {
      "cell_type": "markdown",
      "metadata": {
        "id": "dUkDh_2RcBFL"
      },
      "source": [
        "**Probability & Events**"
      ]
    },
    {
      "cell_type": "markdown",
      "metadata": {
        "id": "BKp_CqZxcUSM"
      },
      "source": [
        "Q. 2. In the game of snakes and ladders, a fair die is thrown. If event E1 represents all\r\n",
        "the events of getting a natural number less than 4, event E2 consists of all the events of\r\n",
        "getting an even number and E3 denotes all the events of getting an odd number. List\r\n",
        "the sets representing the following:\r\n",
        "i)E1 or E2 or E3\r\n",
        "ii)E1 and E2 and E3\r\n",
        "iii)E1 but not E3\r\n"
      ]
    },
    {
      "cell_type": "markdown",
      "metadata": {
        "id": "t_Ru1zkkzHxN"
      },
      "source": [
        "**Solution**"
      ]
    },
    {
      "cell_type": "markdown",
      "metadata": {
        "id": "TPLqJZuQzLKd"
      },
      "source": [
        "The sample space is given as S = {1 , 2 , 3 , 4 , 5 , 6}\r\n",
        "\r\n",
        "E1 = {1,2,3}\r\n",
        "\r\n",
        "E2 = {2,4,6}\r\n",
        "\r\n",
        "E3 = {1,3,5}\r\n",
        "\r\n",
        "i)E1 or E2 or E3= E1 E2 E3= {1, 2, 3, 4, 5, 6}\r\n",
        "\r\n",
        "ii)E1 and E2 and E3 = E1 E2 E3 = ∅\r\n",
        "\r\n",
        "iii)E1 but not E3 = {2}"
      ]
    },
    {
      "cell_type": "code",
      "metadata": {
        "colab": {
          "base_uri": "https://localhost:8080/"
        },
        "id": "Ypeknd_KajcN",
        "outputId": "5348c4b7-0a91-41f1-e094-45817612d47e"
      },
      "source": [
        "myQ2set = {1,2,3,4,5,6}\r\n",
        "SetE1=set()\r\n",
        "SetE2=set()\r\n",
        "SetE3=set()\r\n",
        "for i in range(1,7):\r\n",
        "  if i < 4:\r\n",
        "    SetE1.add(i)\r\n",
        "  if (i%2)==0:\r\n",
        "    SetE2.add(i)\r\n",
        "  if (i%2)!=0:\r\n",
        "    SetE3.add(i)\r\n",
        "\r\n",
        "print(\"All the events of getting a natural number less than 4 is \"+ str(SetE1))\r\n",
        "print(\"All the events of getting an even number is \"+ str(SetE2))\r\n",
        "print(\"All the events of getting an odd number is \"+ str(SetE3))\r\n",
        "print(\"\")\r\n",
        "\r\n",
        "#i)E1 or E2 or E3\r\n",
        "Q2i=SetE1.union(SetE2).union(SetE3)\r\n",
        "print(\"E1 or E2 or E3 is \"+ str(Q2i))\r\n",
        "print(\"\")\r\n",
        "\r\n",
        "#ii)E1 and E2 and E3 = E1 E2 E3\r\n",
        "Q2ii = SetE1.intersection(SetE2).intersection(SetE3)\r\n",
        "print(\"E1 and E2 and E3 is \"+ str(Q2ii))\r\n",
        "print(\"\")\r\n",
        "\r\n",
        "#iii)E1 but not E3\r\n",
        "Q2iii=SetE1.difference(SetE3)\r\n",
        "print(\"E1 but not E3 is \"+ str(Q2iii))\r\n",
        "print(\"\")"
      ],
      "execution_count": 4,
      "outputs": [
        {
          "output_type": "stream",
          "text": [
            "All the events of getting a natural number less than 4 is {1, 2, 3}\n",
            "All the events of getting an even number is {2, 4, 6}\n",
            "All the events of getting an odd number is {1, 3, 5}\n",
            "\n",
            "E1 or E2 or E3 is {1, 2, 3, 4, 5, 6}\n",
            "\n",
            "E1 and E2 and E3 is set()\n",
            "\n",
            "E1 but not E3 is {2}\n",
            "\n"
          ],
          "name": "stdout"
        }
      ]
    },
    {
      "cell_type": "markdown",
      "metadata": {
        "id": "TMMuUUzxchkm"
      },
      "source": [
        "**Permutations**"
      ]
    },
    {
      "cell_type": "markdown",
      "metadata": {
        "id": "vkwdgh9tclKr"
      },
      "source": [
        "Q. 3. How many permutations of the letters of the word ARTICLE have consonants in\r\n",
        "the first and last positions?"
      ]
    },
    {
      "cell_type": "markdown",
      "metadata": {
        "id": "tv8pvqADzZ-p"
      },
      "source": [
        "**Solution**"
      ]
    },
    {
      "cell_type": "markdown",
      "metadata": {
        "id": "6k5sscF4zaIV"
      },
      "source": [
        "In the word ARTICLE, there are 4 consonants.\r\n",
        "Since the first letter must be a consonant, \r\n",
        "we have four choices for the first position, and once we use up a consonant, there are \r\n",
        "only three consonants left for the last spot. We show as follows:\r\n",
        "\r\n",
        "4 _ _ _ _ _ 3\r\n",
        "\r\n",
        "Since there are no more restrictions, we can go ahead and make the choices for the rest of the positions.\r\n",
        "\r\n",
        "So far we have used up 2 letters, therefore, five remain. \r\n",
        "\r\n",
        "So for the next position there are five choices, \r\n",
        "\r\n",
        "for the position after that there are four choices, and so on. \r\n",
        "We get 4 5 4 3 2 1 3\r\n",
        "So the total permutations are  4⋅5⋅4⋅3⋅2⋅1⋅3=1440.\r\n"
      ]
    },
    {
      "cell_type": "code",
      "metadata": {
        "colab": {
          "base_uri": "https://localhost:8080/"
        },
        "id": "56FAnJrSajkl",
        "outputId": "9ec9a842-4694-49fa-e8bc-3b6acbf1c91f"
      },
      "source": [
        "wordstr=[\"A\",\"R\",\"T\",\"I\",\"C\",\"L\",\"E\"]\r\n",
        "noOfconsonants=0\r\n",
        "for i in wordstr:\r\n",
        "  if (i==\"A\" or i==\"E\" or i==\"I\" or i==\"O\" or i==\"U\"):\r\n",
        "    noOfconsonants=noOfconsonants+1\r\n",
        "\r\n",
        "noOfconsonants=len(wordstr) - noOfconsonants\r\n",
        "print(\"In the word ARTICLE, there are \" + str(noOfconsonants) +\" consonants\")\r\n",
        "\r\n",
        "Q3List=[None] * len(wordstr)\r\n",
        "\r\n",
        "Q3List[0]=noOfconsonants\r\n",
        "Q3List[len(wordstr)-1]=noOfconsonants-1\r\n",
        "\r\n",
        "rem=len(wordstr)-2\r\n",
        "for i in range(1,len(wordstr)-1):\r\n",
        "    Q3List[i]=rem\r\n",
        "    rem=rem-1\r\n",
        "\r\n",
        "mul=1\r\n",
        "for i in Q3List:\r\n",
        "  mul=mul*i\r\n",
        "\r\n",
        "print(\"Position is \" + str(Q3List))\r\n",
        "print(\"Total permutations are \" + str(mul))\r\n",
        "print(\"\")"
      ],
      "execution_count": 5,
      "outputs": [
        {
          "output_type": "stream",
          "text": [
            "In the word ARTICLE, there are 4 consonants\n",
            "Position is [4, 5, 4, 3, 2, 1, 3]\n",
            "Total permutations are 1440\n",
            "\n"
          ],
          "name": "stdout"
        }
      ]
    },
    {
      "cell_type": "markdown",
      "metadata": {
        "id": "EVqjoAyhcuEB"
      },
      "source": [
        "Q. 4. Give five letters {A,B,C,D,E}. Find the following:\r\n",
        "1. The number of four-letter word sequences.\r\n",
        "2. The number of three-letter word sequences.\r\n",
        "3. The number of two-letter word sequences.\r\n"
      ]
    },
    {
      "cell_type": "markdown",
      "metadata": {
        "id": "_FTCTK6r0V0F"
      },
      "source": [
        "**Solution**"
      ]
    },
    {
      "cell_type": "markdown",
      "metadata": {
        "id": "nz0C0QfZ0V45"
      },
      "source": [
        "Since we are selecting from 5 different letters in the set,  n=5 .  \r\n",
        "The value for  r  is the number of letters we use in each sequence.\r\n",
        "\r\n",
        "The number of four-letter word sequences is 5P4 =  5!(5−4)!=5⋅4⋅3⋅2⋅11=5⋅4⋅3⋅2=120 \r\n",
        "\r\n",
        "The number of three-letter word sequences is 5P3 =  5!(5−3)!=5⋅4⋅3⋅2⋅12⋅1=5⋅4⋅3=60 \r\n",
        "\r\n",
        "The number of two-letter word sequences is 5P2 =  5!(5−2)!=5⋅4⋅3⋅2⋅13⋅2⋅1=5⋅4=20\r\n"
      ]
    },
    {
      "cell_type": "code",
      "metadata": {
        "colab": {
          "base_uri": "https://localhost:8080/"
        },
        "id": "1jxjLilWajxF",
        "outputId": "e3399cc0-16b2-422d-c3af-477acb47e0bd"
      },
      "source": [
        "import math\r\n",
        "n=5\r\n",
        "Q45p4 =int(math.factorial(5)/math.factorial(5-4))\r\n",
        "print(\"The number of four-letter word sequences is \" + str(Q45p4))\r\n",
        "Q45p3 =int(math.factorial(5)/math.factorial(5-3))\r\n",
        "print(\"The number of three-letter word sequences is \" + str(Q45p3))\r\n",
        "Q45p2 =int(math.factorial(5)/math.factorial(5-2))\r\n",
        "print(\"The number of two-letter word sequences is \" + str(Q45p2))\r\n"
      ],
      "execution_count": 6,
      "outputs": [
        {
          "output_type": "stream",
          "text": [
            "The number of four-letter word sequences is 120\n",
            "The number of three-letter word sequences is 60\n",
            "The number of two-letter word sequences is 20\n"
          ],
          "name": "stdout"
        }
      ]
    },
    {
      "cell_type": "markdown",
      "metadata": {
        "id": "CXSGpj1Hc2XJ"
      },
      "source": [
        "Q. 5. In how many different ways can 4 people be seated in a straight line if two of them\r\n",
        "insist on sitting next to each other."
      ]
    },
    {
      "cell_type": "markdown",
      "metadata": {
        "id": "qrXpx-NZ0rG9"
      },
      "source": [
        "**Solution**"
      ]
    },
    {
      "cell_type": "markdown",
      "metadata": {
        "id": "y1bwFRtW0rOr"
      },
      "source": [
        "Let us suppose we have four people A, B, C, and D. Further suppose that A and B want to sit together. For the sake of argument, we tie A and B together and treat them as one person.\r\n",
        "The four people are  [AB]  CD. Since  [AB]  is treated as one person, we have the following possible arrangements.\r\n",
        "\r\n",
        "[AB]CD,[AB]DC,C[AB]D,D[AB]C,CD[AB],DC[AB]\r\n",
        " \r\n",
        "Note that there are six more such permutations because A and B could also be tied in the order BA. And they are\r\n",
        "\r\n",
        "[BA]CD,[BA]DC,C[BA]D,D[BA]C,CD[BA],DC[BA]\r\n",
        " \r\n",
        "So altogether there are 12 different permutations.\r\n",
        "\r\n",
        "We can solve this problem using the multiplication axiom.\r\n",
        "\r\n",
        "After we tie two of the people together and treat them as one person, we can say we have only three people. \r\n",
        "The multiplication axiom tells us that three people can be seated in 3! ways. Since two people can be tied together 2! ways, there are 3! 2! = 12 different arrangements"
      ]
    },
    {
      "cell_type": "code",
      "metadata": {
        "colab": {
          "base_uri": "https://localhost:8080/"
        },
        "id": "7vAMysS0aj6t",
        "outputId": "08c03680-d2b7-448b-91ac-780eee9cb7dd"
      },
      "source": [
        "from itertools import permutations  \r\n",
        "\r\n",
        "#permutations of A and B\r\n",
        "permAB = permutations([\"A\",\"B\"]) \r\n",
        "print(\"Permutations of A and B is\") \r\n",
        "for i in list(permAB):  \r\n",
        "    print (i)  \r\n",
        "print(\"\")\r\n",
        "\r\n",
        "\r\n",
        "# Get all permutations of [\"AB\",\"C\",\"D\"]  \r\n",
        "perm1 = permutations([\"AB\",\"C\",\"D\"])  \r\n",
        "print(\"permutations of AB,C,D\")  \r\n",
        "# Print the obtained permutations  \r\n",
        "for i in list(perm1):  \r\n",
        "    print (i)  \r\n",
        "print(\"\")\r\n",
        "\r\n",
        "\r\n",
        "# Get all permutations of [\"BA\",\"C\",\"D\"]  \r\n",
        "perm2 = permutations([\"BA\",\"C\",\"D\"])  \r\n",
        "print(\"permutations of BA,C,D\")  \r\n",
        "# Print the obtained permutations  \r\n",
        "for i in list(perm2):  \r\n",
        "    print (i)  \r\n",
        "\r\n",
        "finalpar=(math.factorial(3)) * (math.factorial(2))\r\n",
        "print(\"\")\r\n",
        "print(\"Total arrangements is \" + str(finalpar))"
      ],
      "execution_count": 7,
      "outputs": [
        {
          "output_type": "stream",
          "text": [
            "Permutations of A and B is\n",
            "('A', 'B')\n",
            "('B', 'A')\n",
            "\n",
            "permutations of AB,C,D\n",
            "('AB', 'C', 'D')\n",
            "('AB', 'D', 'C')\n",
            "('C', 'AB', 'D')\n",
            "('C', 'D', 'AB')\n",
            "('D', 'AB', 'C')\n",
            "('D', 'C', 'AB')\n",
            "\n",
            "permutations of BA,C,D\n",
            "('BA', 'C', 'D')\n",
            "('BA', 'D', 'C')\n",
            "('C', 'BA', 'D')\n",
            "('C', 'D', 'BA')\n",
            "('D', 'BA', 'C')\n",
            "('D', 'C', 'BA')\n",
            "\n",
            "Total arrangements is 12\n"
          ],
          "name": "stdout"
        }
      ]
    },
    {
      "cell_type": "markdown",
      "metadata": {
        "id": "HlGyNcYuc8Tj"
      },
      "source": [
        "Q. 6. You have 4 math books and 5 history books to put on a shelf that has 5 slots. In\r\n",
        "how many ways can the books be shelved if the first three slots are filled with math\r\n",
        "books and the next two slots are filled with history books?"
      ]
    },
    {
      "cell_type": "markdown",
      "metadata": {
        "id": "Pw8MeeSu1HjO"
      },
      "source": [
        "**Solution**"
      ]
    },
    {
      "cell_type": "markdown",
      "metadata": {
        "id": "MMZf9ToA1HwT"
      },
      "source": [
        "We first do the problem using the multiplication axiom.\r\n",
        "\r\n",
        "Since the math books go in the first three slots, there are 4 choices for the first slot,\r\n",
        "3 choices for the second and 2 choices for the third.\r\n",
        "\r\n",
        "The fourth slot requires a history book, and has five choices. Once that choice is made, there are 4 history books left, and therefore, 4 choices for the last slot. The choices are shown below.\r\n",
        "\r\n",
        "4 3 2 5 4\r\n",
        "\r\n",
        "Therefore, the number of permutations are  4⋅3⋅2⋅5⋅4=480 ."
      ]
    },
    {
      "cell_type": "code",
      "metadata": {
        "colab": {
          "base_uri": "https://localhost:8080/"
        },
        "id": "y89weD0hakEo",
        "outputId": "baf56822-07b5-4f1e-c0a7-2765000db13c"
      },
      "source": [
        "import math\r\n",
        "Q6P=4*3*2*5*4\r\n",
        "print(\"The number of permutations uisng using the multiplication axiom \" + str(Q6P))\r\n",
        "\r\n",
        "#Alternately, we can see that  4⋅3⋅2  is really same as 4P3, and  5⋅4  is 5P2.\r\n",
        "\r\n",
        "Q6AP=int((math.factorial(4)/math.factorial(4-3))*(math.factorial(5)/math.factorial(5-2)))\r\n",
        "print(\"The number of permutations are \" + str(Q6AP))\r\n",
        "\r\n",
        "print(\"\")"
      ],
      "execution_count": 8,
      "outputs": [
        {
          "output_type": "stream",
          "text": [
            "The number of permutations uisng using the multiplication axiom 480\n",
            "The number of permutations are 480\n",
            "\n"
          ],
          "name": "stdout"
        }
      ]
    },
    {
      "cell_type": "markdown",
      "metadata": {
        "id": "HcDXZvyIdAK6"
      },
      "source": [
        "Q. 7. The shopping mall has a straight row of 5 flagpoles at its main entrance plaza. It\r\n",
        "has 3 identical green flags and 2 identical yellow flags. How many distinct arrangements\r\n",
        "of flags on the flagpoles are possible?"
      ]
    },
    {
      "cell_type": "markdown",
      "metadata": {
        "id": "rbWvsfAB1XdR"
      },
      "source": [
        "**Solution**"
      ]
    },
    {
      "cell_type": "markdown",
      "metadata": {
        "id": "ixK-3vKZ1Xur"
      },
      "source": [
        "The problem can be thought of as distinct permutations of the letters GGGYY; that is arrangements of 5 letters, where 3 letters are similar, and the remaining 2 letters are similar:"
      ]
    },
    {
      "cell_type": "code",
      "metadata": {
        "colab": {
          "base_uri": "https://localhost:8080/"
        },
        "id": "9ilP-P4fakO-",
        "outputId": "b216b551-be0a-4024-a6bb-4a9d3cb2ca22"
      },
      "source": [
        "import math\r\n",
        "from itertools import permutations\r\n",
        "from itertools import combinations\r\n",
        "\r\n",
        "Q7an=math.factorial(5)/(math.factorial(3)*math.factorial(2))\r\n",
        "print(\"Distinct permutations of the letters GGGYY \" + str(Q7an))\r\n",
        "Q7List=[]\r\n",
        "Q7perm = permutations(\"GGGYY\")\r\n",
        "print(\"\")  \r\n",
        "# Print the obtained permutations\r\n",
        "for i in list(Q7perm):\r\n",
        "    Q7List.append(i)\r\n",
        "\r\n",
        "print(\"Below are distinct permutations of the letters GGGYY\")\r\n",
        "print(set(Q7List))\r\n",
        "print(\"\")"
      ],
      "execution_count": 9,
      "outputs": [
        {
          "output_type": "stream",
          "text": [
            "Distinct permutations of the letters GGGYY 10.0\n",
            "\n",
            "Below are distinct permutations of the letters GGGYY\n",
            "{('G', 'Y', 'G', 'G', 'Y'), ('Y', 'G', 'G', 'G', 'Y'), ('G', 'Y', 'G', 'Y', 'G'), ('G', 'Y', 'Y', 'G', 'G'), ('Y', 'G', 'G', 'Y', 'G'), ('Y', 'G', 'Y', 'G', 'G'), ('G', 'G', 'G', 'Y', 'Y'), ('Y', 'Y', 'G', 'G', 'G'), ('G', 'G', 'Y', 'G', 'Y'), ('G', 'G', 'Y', 'Y', 'G')}\n",
            "\n"
          ],
          "name": "stdout"
        }
      ]
    },
    {
      "cell_type": "markdown",
      "metadata": {
        "id": "2EIFP8UhdDdi"
      },
      "source": [
        "Q.8. A Birthday Problem (Collision of Birth Days):\r\n",
        "\"If there are ‘n’ people in a room, what is the chance that some pair among them have\r\n",
        "the same birthday?\"\r\n"
      ]
    },
    {
      "cell_type": "markdown",
      "metadata": {
        "id": "5kx6Ozoa1v2P"
      },
      "source": [
        "**Solution**"
      ]
    },
    {
      "cell_type": "markdown",
      "metadata": {
        "id": "rfE8Pgzq1yoM"
      },
      "source": [
        "Here Q8P is probality of people having same birthday and e is probabality of people not having same birthday\r\n"
      ]
    },
    {
      "cell_type": "code",
      "metadata": {
        "colab": {
          "base_uri": "https://localhost:8080/"
        },
        "id": "OnNT6X7Taka1",
        "outputId": "3a57553a-684b-4c38-d7e0-03112d109467"
      },
      "source": [
        "import math\r\n",
        "n = input(\"Enter number of people in room :\")\r\n",
        "e=math.exp(-int(n)**2/(2*365))\r\n",
        "Q8P=1-e\r\n",
        "print(\"Chance of having same birthday if \" + str(n) + \" people(s) are in same room is \"+ str(Q8P))\r\n",
        "print(\"\")"
      ],
      "execution_count": 10,
      "outputs": [
        {
          "output_type": "stream",
          "text": [
            "Enter number of people in room :30\n",
            "Chance of having same birthday if 30 people(s) are in same room is 0.7085470557100684\n",
            "\n"
          ],
          "name": "stdout"
        }
      ]
    },
    {
      "cell_type": "markdown",
      "metadata": {
        "id": "6iBZ8ECkdGj9"
      },
      "source": [
        "**Sampling with and Without Replacement**"
      ]
    },
    {
      "cell_type": "markdown",
      "metadata": {
        "id": "mSMOjhhUdUu-"
      },
      "source": [
        "Q. 9. You have a fair, well-shuffled deck of 52 cards. It consists of four suits. The suits\r\n",
        "are clubs, diamonds, hearts and spaces. There are 13 cards in each suit consisting of 1,\r\n",
        "2, 3, 4, 5, 6, 7, 8, 9, J(Jack), Q(Queen), H(king) of that suit.\r\n",
        "Three cards are picked at random\r\n",
        "\r\n",
        "a. Suppose you know that the picked cards are Q of spades, K of hearts and Q of\r\n",
        "spades. Can you decide if the sampling was with or without replacement?\r\n",
        "\r\n",
        "b. Suppose you know that the picked cards are Q of spades, K of hearts and J of\r\n",
        "spades. Can you decide if the sampling was with or without replacement?"
      ]
    },
    {
      "cell_type": "markdown",
      "metadata": {
        "id": "L8wsLHOM16Sm"
      },
      "source": [
        "**Solution**"
      ]
    },
    {
      "cell_type": "code",
      "metadata": {
        "colab": {
          "base_uri": "https://localhost:8080/"
        },
        "id": "bCsDxRCWaksB",
        "outputId": "0bb41d2e-4f2e-4867-ee45-6dfe94c80680"
      },
      "source": [
        "def samplingans(SList):\r\n",
        "  lenSList=len(SList)\r\n",
        "  sizeofset=len(set(SList))\r\n",
        "  if lenSList==sizeofset:\r\n",
        "    s=\"without replacement and with replacement sampling method\"\r\n",
        "  else:\r\n",
        "    s=\"only with replacement sampling method\"\r\n",
        "  return s\r\n",
        "\r\n",
        "print(\"For 3 random cards picked i.e. Q of spades, K of hearts and Q of spades is possible using \" + samplingans([\"QS\",\"KH\",\"QS\"]) +\".\")\r\n",
        "print(\"For 3 random cards picked i.e. Q of spades, K of hearts and J of spades is possible using \" + samplingans([\"QS\",\"KH\",\"JS\"])+\".\")"
      ],
      "execution_count": 11,
      "outputs": [
        {
          "output_type": "stream",
          "text": [
            "For 3 random cards picked i.e. Q of spades, K of hearts and Q of spades is possible using only with replacement sampling method.\n",
            "For 3 random cards picked i.e. Q of spades, K of hearts and J of spades is possible using without replacement and with replacement sampling method.\n"
          ],
          "name": "stdout"
        }
      ]
    },
    {
      "cell_type": "markdown",
      "metadata": {
        "id": "cqKwK0O8dgxl"
      },
      "source": [
        "Q. 10. You have a fair, well-shuffled deck of 52 cards. It consists of four suits. The suits\r\n",
        "are clubs, diamonds, hearts and spaces. There are 13 cards in each suit consisting of 1,\r\n",
        "2, 3, 4, 5, 6, 7, 8, 9, J(Jack), Q(Queen), H(king) of that suit. S=spades, H=Hearts,\r\n",
        "D=Diamonds, C=Clubs, suppose that you sample four cards without replacement.\r\n",
        "Which of the following outcomes are possible?\r\n",
        "Answer the following questions for sampling with replacement.\r\n",
        "\r\n",
        "a. QS, ID, 1C, QD\r\n",
        "\r\n",
        "b. KH, 7D, 6D, KH\r\n",
        "\r\n",
        "c. QS, 7D, 6D, KS\r\n"
      ]
    },
    {
      "cell_type": "markdown",
      "metadata": {
        "id": "SpJuqz1J1_QW"
      },
      "source": [
        "**Solution**"
      ]
    },
    {
      "cell_type": "code",
      "metadata": {
        "colab": {
          "base_uri": "https://localhost:8080/"
        },
        "id": "gANLAq72dvUo",
        "outputId": "5aa8f81d-24b7-4d39-ddb8-f1e95cdbc219"
      },
      "source": [
        "print(\"Possibility of Four cards without replacement and with replcement\")\r\n",
        "\r\n",
        "print(\"Four cards i.e. QS, ID, 1C, QD is possible with using \" + samplingans([\"QS\", \"ID\", \"1C\", \"QD\"]))\r\n",
        "print(\"Four cards i.e. KH, 7D, 6D, KH is possible with using \" + samplingans([\"KH\", \"7D\", \"6D\", \"KH\"]))\r\n",
        "print(\"Four cards i.e. QS, 7D, 6D, KS is possible with using \" + samplingans([\"QS\", \"7D\", \"6D\", \"KS\"]))"
      ],
      "execution_count": 12,
      "outputs": [
        {
          "output_type": "stream",
          "text": [
            "Possibility of Four cards without replacement and with replcement\n",
            "Four cards i.e. QS, ID, 1C, QD is possible with using without replacement and with replacement sampling method\n",
            "Four cards i.e. KH, 7D, 6D, KH is possible with using only with replacement sampling method\n",
            "Four cards i.e. QS, 7D, 6D, KS is possible with using without replacement and with replacement sampling method\n"
          ],
          "name": "stdout"
        }
      ]
    }
  ]
}