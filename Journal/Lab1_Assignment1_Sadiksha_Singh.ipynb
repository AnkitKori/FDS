{
  "nbformat": 4,
  "nbformat_minor": 0,
  "metadata": {
    "colab": {
      "name": "Lab1_Assignment1_Sadiksha Singh.ipynb",
      "provenance": [],
      "collapsed_sections": [],
      "authorship_tag": "ABX9TyNI9PK+v6rBWuAs8XwlfP8I",
      "include_colab_link": true
    },
    "kernelspec": {
      "name": "python3",
      "display_name": "Python 3"
    }
  },
  "cells": [
    {
      "cell_type": "markdown",
      "metadata": {
        "id": "view-in-github",
        "colab_type": "text"
      },
      "source": [
        "<a href=\"https://colab.research.google.com/github/Sadiksha08/FDS-Lab-Work/blob/main/Lab1_Assignment1_Sadiksha_Singh.ipynb\" target=\"_parent\"><img src=\"https://colab.research.google.com/assets/colab-badge.svg\" alt=\"Open In Colab\"/></a>"
      ]
    },
    {
      "cell_type": "code",
      "metadata": {
        "id": "MrB5lGP9E-3P",
        "colab": {
          "base_uri": "https://localhost:8080/"
        },
        "outputId": "fbe05051-f284-46ed-dc32-17a812b9045e"
      },
      "source": [
        "#Mounting Google Drive\n",
        "%cd ..\n",
        "from google.colab import drive\n",
        "drive.mount('/content/gdrive')\n"
      ],
      "execution_count": 1,
      "outputs": [
        {
          "output_type": "stream",
          "text": [
            "/\n",
            "Mounted at /content/gdrive\n"
          ],
          "name": "stdout"
        }
      ]
    },
    {
      "cell_type": "code",
      "metadata": {
        "id": "rNPHp3XyO9x5"
      },
      "source": [
        "import numpy \n",
        "import pandas as pd"
      ],
      "execution_count": 3,
      "outputs": []
    },
    {
      "cell_type": "code",
      "metadata": {
        "id": "Gf3SvCeCNPHV",
        "colab": {
          "base_uri": "https://localhost:8080/",
          "height": 173
        },
        "outputId": "aac725e8-4f5a-4b03-df87-a9d493d1ce2f"
      },
      "source": [
        "# 1. Creating a csv file\n",
        "\n",
        "#import pandas as pd\n",
        "Location = \"/content/gdrive/MyDrive/EmpData.csv\"\n",
        "EmpId = ['E101', 'E102', 'E103', 'E104']\n",
        "FName = ['Shweta','Manisha','Madhu','Anita']\n",
        "LName = ['Subnis','Perdesi','Mali','Rai']\n",
        "Designation = ['ProjectEngineer','Tester','SrSoftwareEngineer','WebDeveloper']\n",
        "Basic_Salary = [40000, 50000, 60000, 70000]\n",
        "\n",
        "EmpData = zip(EmpId,FName,LName,Designation,Basic_Salary)\n",
        "column = ['EmpId','FName','LName','Designation','Basic Salary']\n",
        "\n",
        "df = pd.DataFrame(data = EmpData, columns = column)\n",
        "df.to_csv(Location, index=False)\n",
        "\n",
        "# Loading data from csv file and displaying data with headers\n",
        "df = pd.read_csv(Location)\n",
        "df"
      ],
      "execution_count": 4,
      "outputs": [
        {
          "output_type": "execute_result",
          "data": {
            "text/html": [
              "<div>\n",
              "<style scoped>\n",
              "    .dataframe tbody tr th:only-of-type {\n",
              "        vertical-align: middle;\n",
              "    }\n",
              "\n",
              "    .dataframe tbody tr th {\n",
              "        vertical-align: top;\n",
              "    }\n",
              "\n",
              "    .dataframe thead th {\n",
              "        text-align: right;\n",
              "    }\n",
              "</style>\n",
              "<table border=\"1\" class=\"dataframe\">\n",
              "  <thead>\n",
              "    <tr style=\"text-align: right;\">\n",
              "      <th></th>\n",
              "      <th>EmpId</th>\n",
              "      <th>FName</th>\n",
              "      <th>LName</th>\n",
              "      <th>Designation</th>\n",
              "      <th>Basic Salary</th>\n",
              "    </tr>\n",
              "  </thead>\n",
              "  <tbody>\n",
              "    <tr>\n",
              "      <th>0</th>\n",
              "      <td>E101</td>\n",
              "      <td>Shweta</td>\n",
              "      <td>Subnis</td>\n",
              "      <td>ProjectEngineer</td>\n",
              "      <td>40000</td>\n",
              "    </tr>\n",
              "    <tr>\n",
              "      <th>1</th>\n",
              "      <td>E102</td>\n",
              "      <td>Manisha</td>\n",
              "      <td>Perdesi</td>\n",
              "      <td>Tester</td>\n",
              "      <td>50000</td>\n",
              "    </tr>\n",
              "    <tr>\n",
              "      <th>2</th>\n",
              "      <td>E103</td>\n",
              "      <td>Madhu</td>\n",
              "      <td>Mali</td>\n",
              "      <td>SrSoftwareEngineer</td>\n",
              "      <td>60000</td>\n",
              "    </tr>\n",
              "    <tr>\n",
              "      <th>3</th>\n",
              "      <td>E104</td>\n",
              "      <td>Anita</td>\n",
              "      <td>Rai</td>\n",
              "      <td>WebDeveloper</td>\n",
              "      <td>70000</td>\n",
              "    </tr>\n",
              "  </tbody>\n",
              "</table>\n",
              "</div>"
            ],
            "text/plain": [
              "  EmpId    FName    LName         Designation  Basic Salary\n",
              "0  E101   Shweta   Subnis     ProjectEngineer         40000\n",
              "1  E102  Manisha  Perdesi              Tester         50000\n",
              "2  E103    Madhu     Mali  SrSoftwareEngineer         60000\n",
              "3  E104    Anita      Rai        WebDeveloper         70000"
            ]
          },
          "metadata": {
            "tags": []
          },
          "execution_count": 4
        }
      ]
    },
    {
      "cell_type": "code",
      "metadata": {
        "colab": {
          "base_uri": "https://localhost:8080/",
          "height": 52
        },
        "id": "OVqohxIaCotV",
        "outputId": "a69006ec-7e71-4ef4-b5ff-6936d23f7451"
      },
      "source": [
        "# Reading the file\n",
        "\n",
        "open(\"/content/gdrive/MyDrive/EmpData.csv\").read()"
      ],
      "execution_count": 5,
      "outputs": [
        {
          "output_type": "execute_result",
          "data": {
            "application/vnd.google.colaboratory.intrinsic+json": {
              "type": "string"
            },
            "text/plain": [
              "'EmpId,FName,LName,Designation,Basic Salary\\nE101,Shweta,Subnis,ProjectEngineer,40000\\nE102,Manisha,Perdesi,Tester,50000\\nE103,Madhu,Mali,SrSoftwareEngineer,60000\\nE104,Anita,Rai,WebDeveloper,70000\\n'"
            ]
          },
          "metadata": {
            "tags": []
          },
          "execution_count": 5
        }
      ]
    },
    {
      "cell_type": "code",
      "metadata": {
        "colab": {
          "base_uri": "https://localhost:8080/",
          "height": 204
        },
        "id": "d6RPghebC5-z",
        "outputId": "bf3760b2-848a-442b-ded1-ba5028801f73"
      },
      "source": [
        "# Loading data from csv file and displaying data without headers\n",
        "\n",
        "Location = \"/content/gdrive/MyDrive/EmpData.csv\"\n",
        "df = pd.read_csv(Location, header = None)\n",
        "df"
      ],
      "execution_count": 6,
      "outputs": [
        {
          "output_type": "execute_result",
          "data": {
            "text/html": [
              "<div>\n",
              "<style scoped>\n",
              "    .dataframe tbody tr th:only-of-type {\n",
              "        vertical-align: middle;\n",
              "    }\n",
              "\n",
              "    .dataframe tbody tr th {\n",
              "        vertical-align: top;\n",
              "    }\n",
              "\n",
              "    .dataframe thead th {\n",
              "        text-align: right;\n",
              "    }\n",
              "</style>\n",
              "<table border=\"1\" class=\"dataframe\">\n",
              "  <thead>\n",
              "    <tr style=\"text-align: right;\">\n",
              "      <th></th>\n",
              "      <th>0</th>\n",
              "      <th>1</th>\n",
              "      <th>2</th>\n",
              "      <th>3</th>\n",
              "      <th>4</th>\n",
              "    </tr>\n",
              "  </thead>\n",
              "  <tbody>\n",
              "    <tr>\n",
              "      <th>0</th>\n",
              "      <td>EmpId</td>\n",
              "      <td>FName</td>\n",
              "      <td>LName</td>\n",
              "      <td>Designation</td>\n",
              "      <td>Basic Salary</td>\n",
              "    </tr>\n",
              "    <tr>\n",
              "      <th>1</th>\n",
              "      <td>E101</td>\n",
              "      <td>Shweta</td>\n",
              "      <td>Subnis</td>\n",
              "      <td>ProjectEngineer</td>\n",
              "      <td>40000</td>\n",
              "    </tr>\n",
              "    <tr>\n",
              "      <th>2</th>\n",
              "      <td>E102</td>\n",
              "      <td>Manisha</td>\n",
              "      <td>Perdesi</td>\n",
              "      <td>Tester</td>\n",
              "      <td>50000</td>\n",
              "    </tr>\n",
              "    <tr>\n",
              "      <th>3</th>\n",
              "      <td>E103</td>\n",
              "      <td>Madhu</td>\n",
              "      <td>Mali</td>\n",
              "      <td>SrSoftwareEngineer</td>\n",
              "      <td>60000</td>\n",
              "    </tr>\n",
              "    <tr>\n",
              "      <th>4</th>\n",
              "      <td>E104</td>\n",
              "      <td>Anita</td>\n",
              "      <td>Rai</td>\n",
              "      <td>WebDeveloper</td>\n",
              "      <td>70000</td>\n",
              "    </tr>\n",
              "  </tbody>\n",
              "</table>\n",
              "</div>"
            ],
            "text/plain": [
              "       0        1        2                   3             4\n",
              "0  EmpId    FName    LName         Designation  Basic Salary\n",
              "1   E101   Shweta   Subnis     ProjectEngineer         40000\n",
              "2   E102  Manisha  Perdesi              Tester         50000\n",
              "3   E103    Madhu     Mali  SrSoftwareEngineer         60000\n",
              "4   E104    Anita      Rai        WebDeveloper         70000"
            ]
          },
          "metadata": {
            "tags": []
          },
          "execution_count": 6
        }
      ]
    },
    {
      "cell_type": "code",
      "metadata": {
        "colab": {
          "base_uri": "https://localhost:8080/"
        },
        "id": "Q3XWhmNFHKuX",
        "outputId": "44ab775f-621f-435f-e5e2-2328b881bec3"
      },
      "source": [
        "pip install xlsxwriter"
      ],
      "execution_count": 7,
      "outputs": [
        {
          "output_type": "stream",
          "text": [
            "Collecting xlsxwriter\n",
            "\u001b[?25l  Downloading https://files.pythonhosted.org/packages/6b/41/bf1aae04932d1eaffee1fc5f8b38ca47bbbf07d765129539bc4bcce1ce0c/XlsxWriter-1.3.7-py2.py3-none-any.whl (144kB)\n",
            "\r\u001b[K     |██▎                             | 10kB 15.2MB/s eta 0:00:01\r\u001b[K     |████▌                           | 20kB 20.2MB/s eta 0:00:01\r\u001b[K     |██████▉                         | 30kB 17.7MB/s eta 0:00:01\r\u001b[K     |█████████                       | 40kB 11.1MB/s eta 0:00:01\r\u001b[K     |███████████▎                    | 51kB 8.8MB/s eta 0:00:01\r\u001b[K     |█████████████▋                  | 61kB 8.9MB/s eta 0:00:01\r\u001b[K     |███████████████▉                | 71kB 8.1MB/s eta 0:00:01\r\u001b[K     |██████████████████▏             | 81kB 8.1MB/s eta 0:00:01\r\u001b[K     |████████████████████▍           | 92kB 8.9MB/s eta 0:00:01\r\u001b[K     |██████████████████████▋         | 102kB 9.0MB/s eta 0:00:01\r\u001b[K     |█████████████████████████       | 112kB 9.0MB/s eta 0:00:01\r\u001b[K     |███████████████████████████▏    | 122kB 9.0MB/s eta 0:00:01\r\u001b[K     |█████████████████████████████▌  | 133kB 9.0MB/s eta 0:00:01\r\u001b[K     |███████████████████████████████▊| 143kB 9.0MB/s eta 0:00:01\r\u001b[K     |████████████████████████████████| 153kB 9.0MB/s \n",
            "\u001b[?25hInstalling collected packages: xlsxwriter\n",
            "Successfully installed xlsxwriter-1.3.7\n"
          ],
          "name": "stdout"
        }
      ]
    },
    {
      "cell_type": "code",
      "metadata": {
        "id": "g9taduX-RcbF"
      },
      "source": [
        "import xlsxwriter\n",
        "\n",
        "Location = \"/content/gdrive/MyDrive/EmpData.xlsx\"\n"
      ],
      "execution_count": 8,
      "outputs": []
    },
    {
      "cell_type": "code",
      "metadata": {
        "colab": {
          "base_uri": "https://localhost:8080/",
          "height": 173
        },
        "id": "o_RkyNavZczr",
        "outputId": "79357964-102e-4dc2-af54-c772d51d1ec4"
      },
      "source": [
        "# creating excel file\n",
        "Location = \"/content/gdrive/MyDrive/EmpData.xlsx\"\n",
        "EmpId = ['E101', 'E102', 'E103', 'E104']\n",
        "FName = ['Shweta','Manisha','Madhu','Anita']\n",
        "LName = ['Subnis','Perdesi','Mali','Rai']\n",
        "Designation = ['ProjectEngineer','Tester','SrSoftwareEngineer','WebDeveloper']\n",
        "Basic_Salary = [40000, 50000, 60000, 70000]\n",
        "EmployeeData = zip(EmpId,FName,LName,Designation,Basic_Salary)\n",
        "column = ['Emp_Id','F_Name','L_Name','Designation','Basic_Sal']\n",
        "new_df = pd.DataFrame(data = EmployeeData, columns = column)\n",
        "\n",
        "writer = pd.ExcelWriter(Location, engine='xlsxwriter')\n",
        "new_df.to_excel(writer, sheet_name='Sheet1')\n",
        "writer.save()\n",
        "\n",
        "# Loading data from excel file and displaying data with headers\n",
        "Location = \"/content/gdrive/MyDrive/EmpData.xlsx\"\n",
        "new_df = pd.read_excel(Location, index_col=0)\n",
        "new_df\n"
      ],
      "execution_count": 9,
      "outputs": [
        {
          "output_type": "execute_result",
          "data": {
            "text/html": [
              "<div>\n",
              "<style scoped>\n",
              "    .dataframe tbody tr th:only-of-type {\n",
              "        vertical-align: middle;\n",
              "    }\n",
              "\n",
              "    .dataframe tbody tr th {\n",
              "        vertical-align: top;\n",
              "    }\n",
              "\n",
              "    .dataframe thead th {\n",
              "        text-align: right;\n",
              "    }\n",
              "</style>\n",
              "<table border=\"1\" class=\"dataframe\">\n",
              "  <thead>\n",
              "    <tr style=\"text-align: right;\">\n",
              "      <th></th>\n",
              "      <th>Emp_Id</th>\n",
              "      <th>F_Name</th>\n",
              "      <th>L_Name</th>\n",
              "      <th>Designation</th>\n",
              "      <th>Basic_Sal</th>\n",
              "    </tr>\n",
              "  </thead>\n",
              "  <tbody>\n",
              "    <tr>\n",
              "      <th>0</th>\n",
              "      <td>E101</td>\n",
              "      <td>Shweta</td>\n",
              "      <td>Subnis</td>\n",
              "      <td>ProjectEngineer</td>\n",
              "      <td>40000</td>\n",
              "    </tr>\n",
              "    <tr>\n",
              "      <th>1</th>\n",
              "      <td>E102</td>\n",
              "      <td>Manisha</td>\n",
              "      <td>Perdesi</td>\n",
              "      <td>Tester</td>\n",
              "      <td>50000</td>\n",
              "    </tr>\n",
              "    <tr>\n",
              "      <th>2</th>\n",
              "      <td>E103</td>\n",
              "      <td>Madhu</td>\n",
              "      <td>Mali</td>\n",
              "      <td>SrSoftwareEngineer</td>\n",
              "      <td>60000</td>\n",
              "    </tr>\n",
              "    <tr>\n",
              "      <th>3</th>\n",
              "      <td>E104</td>\n",
              "      <td>Anita</td>\n",
              "      <td>Rai</td>\n",
              "      <td>WebDeveloper</td>\n",
              "      <td>70000</td>\n",
              "    </tr>\n",
              "  </tbody>\n",
              "</table>\n",
              "</div>"
            ],
            "text/plain": [
              "  Emp_Id   F_Name   L_Name         Designation  Basic_Sal\n",
              "0   E101   Shweta   Subnis     ProjectEngineer      40000\n",
              "1   E102  Manisha  Perdesi              Tester      50000\n",
              "2   E103    Madhu     Mali  SrSoftwareEngineer      60000\n",
              "3   E104    Anita      Rai        WebDeveloper      70000"
            ]
          },
          "metadata": {
            "tags": []
          },
          "execution_count": 9
        }
      ]
    },
    {
      "cell_type": "code",
      "metadata": {
        "colab": {
          "base_uri": "https://localhost:8080/"
        },
        "id": "bVTb7u5_ZdWO",
        "outputId": "7cc9199e-31b5-4208-c5c2-5c72cad0df0f"
      },
      "source": [
        "# creating a SQL database file \n",
        "import os\n",
        "import sqlite3 as lite\n",
        "import pandas as pd\n",
        "\n",
        "EmpId = ['E101', 'E102', 'E103', 'E104']\n",
        "FName = ['Shweta','Manisha','Madhu','Anita']\n",
        "LName = ['Subnis','Perdesi','Mali','Rai']\n",
        "Designation = ['ProjectEngineer','Tester','SrSoftwareEngineer','WebDeveloper']\n",
        "Basic_Salary = [40000, 50000, 60000, 70000]\n",
        "EmployeeData_2 = zip(EmpId,FName,LName,Designation,Basic_Salary)\n",
        "column = ['EmpId','FName','LName','Designation','Basic Salary']\n",
        "new_df2 = pd.DataFrame(data = EmployeeData_2, columns = column)\n",
        "db_employee = r'//content/gdrive/MyDrive/EmpData.db'\n",
        "con = lite.connect(db_employee)\n",
        "new_df2.to_sql('Empdata',\n",
        "con,\n",
        "schema=None,\n",
        "if_exists='replace',\n",
        "index=False,\n",
        "index_label=None,\n",
        "chunksize=None,\n",
        "dtype=None)\n",
        "con.close()\n",
        "\n"
      ],
      "execution_count": 10,
      "outputs": [
        {
          "output_type": "stream",
          "text": [
            "/usr/local/lib/python3.6/dist-packages/pandas/core/generic.py:2615: UserWarning: The spaces in these column names will not be changed. In pandas versions < 0.14, spaces were converted to underscores.\n",
            "  method=method,\n"
          ],
          "name": "stderr"
        }
      ]
    },
    {
      "cell_type": "code",
      "metadata": {
        "colab": {
          "base_uri": "https://localhost:8080/",
          "height": 173
        },
        "id": "Tx9Hu9LyZdia",
        "outputId": "ecfe6849-982a-40e9-a74b-7e33c6063fe1"
      },
      "source": [
        "# Connect to sqlite db\n",
        "import pandas as pd\n",
        "from sqlalchemy import create_engine\n",
        "db_file = r'/content/gdrive/MyDrive/EmpData.db'\n",
        "engine = create_engine(r\"sqlite:///{}\" .format(db_file))\n",
        "sql = 'SELECT * from EmpData'\n",
        "new_df2 = pd.read_sql(sql, engine)\n",
        "new_df2"
      ],
      "execution_count": 11,
      "outputs": [
        {
          "output_type": "execute_result",
          "data": {
            "text/html": [
              "<div>\n",
              "<style scoped>\n",
              "    .dataframe tbody tr th:only-of-type {\n",
              "        vertical-align: middle;\n",
              "    }\n",
              "\n",
              "    .dataframe tbody tr th {\n",
              "        vertical-align: top;\n",
              "    }\n",
              "\n",
              "    .dataframe thead th {\n",
              "        text-align: right;\n",
              "    }\n",
              "</style>\n",
              "<table border=\"1\" class=\"dataframe\">\n",
              "  <thead>\n",
              "    <tr style=\"text-align: right;\">\n",
              "      <th></th>\n",
              "      <th>EmpId</th>\n",
              "      <th>FName</th>\n",
              "      <th>LName</th>\n",
              "      <th>Designation</th>\n",
              "      <th>Basic Salary</th>\n",
              "    </tr>\n",
              "  </thead>\n",
              "  <tbody>\n",
              "    <tr>\n",
              "      <th>0</th>\n",
              "      <td>E101</td>\n",
              "      <td>Shweta</td>\n",
              "      <td>Subnis</td>\n",
              "      <td>ProjectEngineer</td>\n",
              "      <td>40000</td>\n",
              "    </tr>\n",
              "    <tr>\n",
              "      <th>1</th>\n",
              "      <td>E102</td>\n",
              "      <td>Manisha</td>\n",
              "      <td>Perdesi</td>\n",
              "      <td>Tester</td>\n",
              "      <td>50000</td>\n",
              "    </tr>\n",
              "    <tr>\n",
              "      <th>2</th>\n",
              "      <td>E103</td>\n",
              "      <td>Madhu</td>\n",
              "      <td>Mali</td>\n",
              "      <td>SrSoftwareEngineer</td>\n",
              "      <td>60000</td>\n",
              "    </tr>\n",
              "    <tr>\n",
              "      <th>3</th>\n",
              "      <td>E104</td>\n",
              "      <td>Anita</td>\n",
              "      <td>Rai</td>\n",
              "      <td>WebDeveloper</td>\n",
              "      <td>70000</td>\n",
              "    </tr>\n",
              "  </tbody>\n",
              "</table>\n",
              "</div>"
            ],
            "text/plain": [
              "  EmpId    FName    LName         Designation  Basic Salary\n",
              "0  E101   Shweta   Subnis     ProjectEngineer         40000\n",
              "1  E102  Manisha  Perdesi              Tester         50000\n",
              "2  E103    Madhu     Mali  SrSoftwareEngineer         60000\n",
              "3  E104    Anita      Rai        WebDeveloper         70000"
            ]
          },
          "metadata": {
            "tags": []
          },
          "execution_count": 11
        }
      ]
    }
  ]
}